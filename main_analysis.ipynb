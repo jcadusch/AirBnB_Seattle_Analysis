{
 "cells": [
  {
   "cell_type": "markdown",
   "id": "65ad0801-0dfd-462d-9c7e-f8a91f2eda54",
   "metadata": {},
   "source": [
    "**Importing Libraries and Setting Up Figure Style**"
   ]
  },
  {
   "cell_type": "code",
   "execution_count": 1,
   "id": "9f1b11cf-7b75-412b-9f7f-56291d724997",
   "metadata": {},
   "outputs": [],
   "source": [
    "import numpy as np\n",
    "import pandas as pd\n",
    "import seaborn as sns\n",
    "import matplotlib.pyplot as plt\n",
    "%matplotlib inline\n",
    "\n",
    "# import ML\n",
    "import lightgbm as lgb #gradient boosted decsion tree machine\n",
    "from sklearn.model_selection import KFold, RandomizedSearchCV #cross validation\n",
    "from sklearn.model_selection import train_test_split #split\n",
    "from sklearn.metrics import r2_score, mean_squared_error #metrics\n",
    "\n",
    "# set up plot styles\n",
    "sns.set_theme()\n",
    "sns.set_style(\"darkgrid\", {\"axes.facecolor\": \".9\"})\n",
    "sns.set_context(\"talk\")"
   ]
  },
  {
   "cell_type": "markdown",
   "id": "16178dbb-39ec-425a-9258-fca15db3abb5",
   "metadata": {
    "tags": []
   },
   "source": [
    "\n",
    "Above we have imported all the modules needed for reading and cleaning the database, data viz and machine learning analysis of the data. We have chosen to use a light gradient boosted machine (lightgbm) to build our model as it has been shown to return models with low mean square error compared to decsion tree, random forest, SVM, kNN.We also set the appreance of plots at this step so our output has a consistent style. This is an important (and often overlooked!) point for convinvcing reports for stakeholders of both technical and non-technical backgrounds.\n"
   ]
  }
 ],
 "metadata": {
  "kernelspec": {
   "display_name": "Python 3",
   "language": "python",
   "name": "python3"
  },
  "language_info": {
   "codemirror_mode": {
    "name": "ipython",
    "version": 3
   },
   "file_extension": ".py",
   "mimetype": "text/x-python",
   "name": "python",
   "nbconvert_exporter": "python",
   "pygments_lexer": "ipython3",
   "version": "3.9.5"
  }
 },
 "nbformat": 4,
 "nbformat_minor": 5
}
